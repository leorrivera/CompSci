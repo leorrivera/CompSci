{
  "nbformat": 4,
  "nbformat_minor": 0,
  "metadata": {
    "colab": {
      "provenance": [],
      "toc_visible": true,
      "include_colab_link": true
    },
    "kernelspec": {
      "name": "python3",
      "display_name": "Python 3"
    },
    "language_info": {
      "name": "python"
    }
  },
  "cells": [
    {
      "cell_type": "markdown",
      "metadata": {
        "id": "view-in-github",
        "colab_type": "text"
      },
      "source": [
        "<a href=\"https://colab.research.google.com/github/leorrivera/CompSci/blob/main/Leo_Rivera_A_1_backup_copy.ipynb\" target=\"_parent\"><img src=\"https://colab.research.google.com/assets/colab-badge.svg\" alt=\"Open In Colab\"/></a>"
      ]
    },
    {
      "cell_type": "markdown",
      "source": [
        "# Problem Set for A.1"
      ],
      "metadata": {
        "id": "rV-jSzpyx6Yn"
      }
    },
    {
      "cell_type": "markdown",
      "source": [
        "1. Write assignment statements that perform the following operations with the variables a, b, and c:<br/>\n",
        "a. Add 2 to a and assign the result to b<br/>\n",
        "b. Multiply b times 4 and assign the result to a<br/>\n",
        "c. Divide a by 3.14 and assign the result to b<br/>\n",
        "d. Subtract 8 from b and assign the result to a<br/>"
      ],
      "metadata": {
        "id": "XSXaBn7qXRfH"
      }
    },
    {
      "cell_type": "code",
      "source": [
        "# Comments\n",
        "def fn():\n",
        "  pass\n",
        "\n",
        "def main():\n",
        "  a=0\n",
        "  b=0\n",
        "  c=0\n",
        "  ### Your Code Goes Here below this line -- start with indentation\n",
        "  b=a+2\n",
        "  a=b*4\n",
        "  b=a/3.14\n",
        "  a=b-8\n",
        "  pass\n",
        "\n",
        "if __name__ == '__main__':\n",
        "  main()"
      ],
      "metadata": {
        "id": "MLzQyug5XcRT"
      },
      "execution_count": null,
      "outputs": []
    },
    {
      "cell_type": "markdown",
      "source": [
        "2. Assume the variables result, w, x, y, and z are all integers, and that\n",
        "w = 5, x = 4, y = 8, and z = 2. What value will be stored in result after each of the following statements execute?<br/>\n",
        "a. result = x + y<br/>\n",
        "b. result = z * 2<br/>\n",
        "c. result = y / x<br/>\n",
        "d. result = y - z<br/>\n",
        "e. result = w // z<br/>\n",
        "Print the value of the result after each result statement."
      ],
      "metadata": {
        "id": "g4WcwdNUXeeg"
      }
    },
    {
      "cell_type": "code",
      "source": [
        "# Comments\n",
        "def fn():\n",
        "  pass\n",
        "\n",
        "def main():\n",
        "\n",
        "  ### Your Code Goes Here below this line -- start with indentation\n",
        "  w=5\n",
        "  x=4\n",
        "  y=8\n",
        "  z=2\n",
        "\n",
        "  result = x + y\n",
        "  print(\"result\",result)\n",
        "  result = z * 2\n",
        "  print(\"result\",result)\n",
        "  result = y / x\n",
        "  print(\"result\",result)\n",
        "  result = y - z\n",
        "  print(\"result\",result)\n",
        "  result = w // z\n",
        "  print(\"result\",result)\n",
        "\n",
        "  pass\n",
        "\n",
        "if __name__ == '__main__':\n",
        "  main()"
      ],
      "metadata": {
        "id": "5LMbNeOQX0ER",
        "colab": {
          "base_uri": "https://localhost:8080/"
        },
        "outputId": "511f0b66-d594-4ab9-e689-0b10c181553a"
      },
      "execution_count": null,
      "outputs": [
        {
          "output_type": "stream",
          "name": "stdout",
          "text": [
            "result 12\n",
            "result 4\n",
            "result 2.0\n",
            "result 6\n",
            "result 2\n"
          ]
        }
      ]
    },
    {
      "cell_type": "markdown",
      "source": [
        "3. Write a Python statement that assigns the sum of 10 and 14 to the variable total."
      ],
      "metadata": {
        "id": "9uZKZJ1XX0-u"
      }
    },
    {
      "cell_type": "code",
      "source": [
        "# Comments\n",
        "def fn():\n",
        "  pass\n",
        "  z=10\n",
        "  y=14\n",
        "def main():\n",
        "  ### Your Code Goes Here below this line -- start with indentation\n",
        "    total = 10 + 14\n",
        "    print(\"total\" ,total)\n",
        "    pass\n",
        "\n",
        "if __name__ == '__main__':\n",
        "  main()"
      ],
      "metadata": {
        "id": "ZWlKFHW8YAWg",
        "colab": {
          "base_uri": "https://localhost:8080/"
        },
        "outputId": "6b8df9b1-b503-4ef0-f6be-2fbfab848152"
      },
      "execution_count": null,
      "outputs": [
        {
          "output_type": "stream",
          "name": "stdout",
          "text": [
            "total 24\n"
          ]
        }
      ]
    },
    {
      "cell_type": "markdown",
      "source": [
        "5. Write a Python statement that multiplies the variable 'subtotal' by 0.15 and assigns the result to the variable 'total'."
      ],
      "metadata": {
        "id": "MA8hxCLZYFIm"
      }
    },
    {
      "cell_type": "code",
      "source": [
        "# Comments\n",
        "def fn():\n",
        "  pass\n",
        "\n",
        "def main():\n",
        "  subtotal=10\n",
        "  ### Your Code Goes Here below this line -- start with indentation\n",
        "  total = subtotal * 0.15\n",
        "  print(\"total\" ,total)\n",
        "  pass\n",
        "\n",
        "if __name__ == '__main__':\n",
        "  main()"
      ],
      "metadata": {
        "id": "hFhMVMS6YI8P",
        "colab": {
          "base_uri": "https://localhost:8080/"
        },
        "outputId": "baf80f1b-a9df-4619-e9cf-714b05806913"
      },
      "execution_count": null,
      "outputs": [
        {
          "output_type": "stream",
          "name": "stdout",
          "text": [
            "total 1.5\n"
          ]
        }
      ]
    },
    {
      "cell_type": "markdown",
      "source": [
        "6. Write a program that displays the following information:<br/>\n",
        "• Your name<br/>\n",
        "• Your address, with city, state, and ZIP<br/>\n",
        "• Your telephone number<br/>\n",
        "• Your college major<br/>"
      ],
      "metadata": {
        "id": "qayQYVUEYJ2H"
      }
    },
    {
      "cell_type": "code",
      "source": [
        "# Comments\n",
        "def fn():\n",
        "  pass\n",
        "\n",
        "def main():\n",
        "  ### Your Code Goes Here below this line -- start with indentation\n",
        "  print('Leonardo')\n",
        "  print('390 Morris Ave, Summit, New Jersey')\n",
        "  print('973-382-3515')\n",
        "  print('Computer Science')\n",
        "  pass\n",
        "\n",
        "if __name__ == '__main__':\n",
        "  main()"
      ],
      "metadata": {
        "id": "amUUruxwYOfU",
        "colab": {
          "base_uri": "https://localhost:8080/"
        },
        "outputId": "7558df68-aedc-4231-ce0a-be511e30dbcd"
      },
      "execution_count": null,
      "outputs": [
        {
          "output_type": "stream",
          "name": "stdout",
          "text": [
            "Leonardo\n",
            "390 Morris Ave, Summit, New Jersey\n",
            "973-382-3515\n",
            "Computer Science\n"
          ]
        }
      ]
    },
    {
      "cell_type": "markdown",
      "source": [
        "7. Assuming there are no accidents or delays, the distance that a car travels down the interstate can be calculated with the following formula:<br/>\n",
        "Distance = Speed x Time<br/>\n",
        "A car is traveling at 70 miles per hour. Write a program that displays the following:<br/>\n",
        "• The distance the car will travel in 6 hours<br/>\n",
        "• The distance the car will travel in 10 hours<br/>\n",
        "• The distance the car will travel in 15 hours<br/>"
      ],
      "metadata": {
        "id": "K_0HIKVGBHT5"
      }
    },
    {
      "cell_type": "code",
      "execution_count": null,
      "metadata": {
        "id": "Xfr1byc_BGc0",
        "colab": {
          "base_uri": "https://localhost:8080/"
        },
        "outputId": "a62846e9-2caf-413e-8461-6c95860daf4c"
      },
      "outputs": [
        {
          "output_type": "stream",
          "name": "stdout",
          "text": [
            "Distance 420\n",
            "Distance 700\n",
            "Distance 1050\n"
          ]
        }
      ],
      "source": [
        "# Comments\n",
        "def fn():\n",
        "  pass\n",
        "  Speed = 70\n",
        "  Time = 6, 10, 15\n",
        "  Distance = Speed * Time\n",
        "def main():\n",
        "  ### Your Code Goes Here below this line -- start with indentation\n",
        "  Distance = 70 * 6\n",
        "  print(\"Distance\", Distance)\n",
        "  Distance = 70 * 10\n",
        "  print(\"Distance\", Distance)\n",
        "  Distance = 70 * 15\n",
        "  print(\"Distance\", Distance)\n",
        "  pass\n",
        "\n",
        "if __name__ == '__main__':\n",
        "  main()"
      ]
    }
  ]
}
{
  "nbformat": 4,
  "nbformat_minor": 0,
  "metadata": {
    "colab": {
      "provenance": [],
      "toc_visible": true
    },
    "kernelspec": {
      "name": "python3",
      "display_name": "Python 3"
    },
    "language_info": {
      "name": "python"
    }
  },
  "cells": [
    {
      "cell_type": "code",
      "execution_count": null,
      "metadata": {
        "id": "U6XQy_sHPt8c"
      },
      "outputs": [],
      "source": [
        "# Comments\n",
        "def fn():\n",
        "    pass\n",
        "\n",
        "def greatest_integer():\n",
        "    pass\n",
        "\n",
        "def main():\n",
        "  ### Your Code Goes Here -- starting with indentation (lines up)\n",
        "\n",
        "  pass\n",
        "\n",
        "if __name__ == '__main__':\n",
        "    main()"
      ]
    }
  ]
}
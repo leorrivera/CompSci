{
  "nbformat": 4,
  "nbformat_minor": 0,
  "metadata": {
    "colab": {
      "provenance": [],
      "toc_visible": true,
      "collapsed_sections": [
        "HePYCIYTwHIl"
      ],
      "include_colab_link": true
    },
    "kernelspec": {
      "name": "python3",
      "display_name": "Python 3"
    },
    "language_info": {
      "name": "python"
    }
  },
  "cells": [
    {
      "cell_type": "markdown",
      "metadata": {
        "id": "view-in-github",
        "colab_type": "text"
      },
      "source": [
        "<a href=\"https://colab.research.google.com/github/leorrivera/CompSci/blob/main/Leo_Rivera_A_2.ipynb\" target=\"_parent\"><img src=\"https://colab.research.google.com/assets/colab-badge.svg\" alt=\"Open In Colab\"/></a>"
      ]
    },
    {
      "cell_type": "markdown",
      "source": [
        "# Problem Set for A.2"
      ],
      "metadata": {
        "id": "HePYCIYTwHIl"
      }
    },
    {
      "cell_type": "markdown",
      "source": [
        "1. Given the function template below, write a function sales_tax takes input as amount of purchase and outputs the total of the sale. This function should compute the state and county sales tax. Assume the state sales tax is 5 percent and the county sales tax is 2.5 percent.<br/>\n",
        "The program should display:<br/>\n",
        "the amount of the purchase, <br/>\n",
        "the state sales tax, <br/>\n",
        "the county sales tax, <br/>\n",
        "the total sales tax, <br/>\n",
        "and the total of the sale (which is the sum of the amount of purchase plus the total sales tax).<br/>\n",
        "Hint: Use the value 0.025 to represent 2.5 percent, and 0.05 to represent 5 percent"
      ],
      "metadata": {
        "id": "dQ_qGOWci5MW"
      }
    },
    {
      "cell_type": "code",
      "execution_count": 28,
      "metadata": {
        "id": "u2kVRjglgwhN",
        "colab": {
          "base_uri": "https://localhost:8080/"
        },
        "outputId": "7c73987b-4c63-418b-a091-d941b00bcc36"
      },
      "outputs": [
        {
          "output_type": "stream",
          "name": "stdout",
          "text": [
            "80\n",
            "4.0\n",
            "2.0\n",
            "6.0\n",
            "86.0\n"
          ]
        }
      ],
      "source": [
        "# Comments\n",
        "\n",
        "def main():\n",
        "  ### Your Code Goes Here -- starting with indentation (lines up)\n",
        "  state_tax_rate = 0.05\n",
        "  county_tax_rate = 0.025\n",
        "  purchase_amount = 80\n",
        "  state_sales_tax = purchase_amount * state_tax_rate\n",
        "  county_sales_tax = purchase_amount * county_tax_rate\n",
        "  total_sales_tax = state_sales_tax + county_sales_tax\n",
        "  total_of_the_sale = purchase_amount + total_sales_tax\n",
        "\n",
        "  print(purchase_amount)\n",
        "  print(state_sales_tax)\n",
        "  print(county_sales_tax)\n",
        "  print(total_sales_tax)\n",
        "  print(total_of_the_sale)\n",
        "  pass\n",
        "\n",
        "if __name__ == '__main__':\n",
        "    main()"
      ]
    },
    {
      "cell_type": "markdown",
      "source": [
        "2. A car’s miles-per-gallon (MPG) can be calculated with the following formula:\n",
        "MPG = Miles driven / Gallons of gas used<br/>\n",
        "Given the function template below, write a function miles_per_gallon that takes the number_of_miles and gallons_of_gas_used as input. Calcuate the car's MPG and output the result."
      ],
      "metadata": {
        "id": "KiFXK5kynZW6"
      }
    },
    {
      "cell_type": "code",
      "source": [
        "def miles_per_gallon(miles_driven, gallons_of_gas_used):\n",
        "  cal_mpg = miles_driven / gallons_of_gas_used\n",
        "  return cal_mpg\n",
        "def main():\n",
        "  # Your Code Goes Here -- notice the indentation\n",
        "  miles_driven = 80\n",
        "  gallons_of_gas_used = 20\n",
        "  mpg = miles_per_gallon(miles_driven, gallons_of_gas_used)\n",
        "  print (mpg)\n",
        "  # Function Calls\n",
        "  # More Code\n",
        "  pass\n",
        "\n",
        "if __name__ == '__main__':\n",
        "    main()"
      ],
      "metadata": {
        "id": "EFnNFhWSoJ4_",
        "colab": {
          "base_uri": "https://localhost:8080/"
        },
        "outputId": "b25df11a-5a35-4a7c-d6df-9858793fb4a5"
      },
      "execution_count": 12,
      "outputs": [
        {
          "output_type": "stream",
          "name": "stdout",
          "text": [
            "4.0\n"
          ]
        }
      ]
    },
    {
      "cell_type": "markdown",
      "source": [
        "3. Given the function template below, write a function c_to_f that converts Celsius temperatures to Fahrenheit temperatures. <br/>\n",
        "The formula is as follows: <br/>\n",
        "![f_to_c.png](data:image/png;base64,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)\n",
        "<br/>This function takes the temperature in Celsius, converts the temperature to Fahrenheit, outputs the result."
      ],
      "metadata": {
        "id": "5AAQpLnyoL6Q"
      }
    },
    {
      "cell_type": "code",
      "source": [
        "# Comments\n",
        "def c_to_f(celsius):\n",
        "    cal_fahrenheit = (celsius * 9/5) + 32\n",
        "    return cal_fahrenheit\n",
        "def main():\n",
        "  ### Your Code Goes Here -- starting with indentation (lines up)\n",
        "  celsius = 25\n",
        "  fahrenheit = c_to_f(celsius)\n",
        "  print(fahrenheit)\n",
        "\n",
        "\n",
        "  pass\n",
        "\n",
        "if __name__ == '__main__':\n",
        "    main()"
      ],
      "metadata": {
        "id": "cleJmad5pSpg",
        "colab": {
          "base_uri": "https://localhost:8080/"
        },
        "outputId": "1193845a-9c02-453f-847f-ad5785ff955e"
      },
      "execution_count": 17,
      "outputs": [
        {
          "output_type": "stream",
          "name": "stdout",
          "text": [
            "77.0\n"
          ]
        }
      ]
    }
  ]
}